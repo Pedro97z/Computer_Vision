{
  "cells": [
    {
      "cell_type": "markdown",
      "metadata": {
        "id": "fMRmS5y93f5s"
      },
      "source": [
        "# **Manual Convolution**\n",
        "---\n",
        "The following project show a few examples of a manual convolution where a filter (kernel) is applied across the values of an array (ex. image).\n",
        "\n",
        "Author: Pedro Zuñiga"
      ]
    },
    {
      "cell_type": "code",
      "execution_count": 105,
      "metadata": {
        "id": "0uv0uFVn6v_f"
      },
      "outputs": [],
      "source": [
        "# Import libraries\n",
        "import numpy as np"
      ]
    },
    {
      "cell_type": "code",
      "execution_count": 106,
      "metadata": {
        "id": "Y9KSCCKjnk4F"
      },
      "outputs": [],
      "source": [
        "def convolution(image, kernel):\n",
        "  result = []\n",
        "  multip_res = []\n",
        "  img_len = len(image)\n",
        "  kernel_len = len(kernel)\n",
        "  x = img_len - kernel_len\n",
        "  for i in range(0, img_len-x):\n",
        "    result.append([])                                                                   # Create new empty array inside the list\n",
        "    multip_res.append([])\n",
        "    for j in range(0, img_len-x):\n",
        "      print(f'Row {i+1}, Column {j+1}')\n",
        "      print('Kernel')\n",
        "      print(kernel)\n",
        "      print('Part of the image affected by the kernel')\n",
        "      print(image[i:i+kernel_len, j:j+kernel_len])\n",
        "      multiplication = (np.multiply(kernel, image[i:i+kernel_len, j:j+kernel_len]))     # Element-wise multiplication\n",
        "      print('Multiplication')\n",
        "      print(multiplication)\n",
        "      print('----------------------------------------')\n",
        "      multip_res[i].append(multiplication)\n",
        "      result[i].append(multiplication.sum())                                            # Sum the multiplication results\n",
        "  print('List of multiplications')\n",
        "  print(np.array(multip_res))\n",
        "  print('\\nFinal Result (Feature Map)')\n",
        "  print(np.array(result))"
      ]
    },
    {
      "cell_type": "code",
      "execution_count": 115,
      "metadata": {
        "colab": {
          "base_uri": "https://localhost:8080/"
        },
        "id": "ElEaipJi7Cuh",
        "outputId": "ceb37d55-615a-47d0-a56a-ad8559e89f90"
      },
      "outputs": [
        {
          "name": "stdout",
          "output_type": "stream",
          "text": [
            "Image\n",
            " [[ 1  2 -1]\n",
            " [ 1  2 -1]\n",
            " [-1 -2 -1]]\n",
            "Image lenght\n",
            " 3\n"
          ]
        }
      ],
      "source": [
        "image1 = np.array([[1,2,-1],[1,2,-1],[-1,-2,-1]])\n",
        "print('Image\\n', image1)\n",
        "print('Image lenght\\n', len(image1))"
      ]
    },
    {
      "cell_type": "code",
      "execution_count": 108,
      "metadata": {
        "colab": {
          "base_uri": "https://localhost:8080/"
        },
        "id": "s8438SHb7CTQ",
        "outputId": "1be1264a-d674-4ae4-aa8c-8afae5b92be3"
      },
      "outputs": [
        {
          "name": "stdout",
          "output_type": "stream",
          "text": [
            "Kernel\n",
            " [[1 2]\n",
            " [1 2]]\n",
            "Kernel lenght\n",
            " 2\n"
          ]
        }
      ],
      "source": [
        "kernel1 = np.array([[1,2],[1,2]])\n",
        "print(\"Kernel\\n\", kernel1)\n",
        "print('Kernel lenght\\n', len(kernel1))"
      ]
    },
    {
      "cell_type": "code",
      "execution_count": 109,
      "metadata": {
        "colab": {
          "base_uri": "https://localhost:8080/"
        },
        "id": "ZBfukK4ziOwr",
        "outputId": "efd38087-caf2-4536-cfee-6fa64eda354c"
      },
      "outputs": [
        {
          "name": "stdout",
          "output_type": "stream",
          "text": [
            "Row 1, Column 1\n",
            "Kernel\n",
            "[[1 2]\n",
            " [1 2]]\n",
            "Part of the image affected by the kernel\n",
            "[[1 2]\n",
            " [1 2]]\n",
            "Multiplication\n",
            "[[1 4]\n",
            " [1 4]]\n",
            "----------------------------------------\n",
            "Row 1, Column 2\n",
            "Kernel\n",
            "[[1 2]\n",
            " [1 2]]\n",
            "Part of the image affected by the kernel\n",
            "[[ 2 -1]\n",
            " [ 2 -1]]\n",
            "Multiplication\n",
            "[[ 2 -2]\n",
            " [ 2 -2]]\n",
            "----------------------------------------\n",
            "Row 2, Column 1\n",
            "Kernel\n",
            "[[1 2]\n",
            " [1 2]]\n",
            "Part of the image affected by the kernel\n",
            "[[ 1  2]\n",
            " [-1 -2]]\n",
            "Multiplication\n",
            "[[ 1  4]\n",
            " [-1 -4]]\n",
            "----------------------------------------\n",
            "Row 2, Column 2\n",
            "Kernel\n",
            "[[1 2]\n",
            " [1 2]]\n",
            "Part of the image affected by the kernel\n",
            "[[ 2 -1]\n",
            " [-2 -1]]\n",
            "Multiplication\n",
            "[[ 2 -2]\n",
            " [-2 -2]]\n",
            "----------------------------------------\n",
            "List of multiplications\n",
            "[[[[ 1  4]\n",
            "   [ 1  4]]\n",
            "\n",
            "  [[ 2 -2]\n",
            "   [ 2 -2]]]\n",
            "\n",
            "\n",
            " [[[ 1  4]\n",
            "   [-1 -4]]\n",
            "\n",
            "  [[ 2 -2]\n",
            "   [-2 -2]]]]\n",
            "\n",
            "Final Result (Feature Map)\n",
            "[[10  0]\n",
            " [ 0 -4]]\n"
          ]
        }
      ],
      "source": [
        "convolution(image1, kernel1)"
      ]
    },
    {
      "cell_type": "code",
      "execution_count": 110,
      "metadata": {
        "colab": {
          "base_uri": "https://localhost:8080/"
        },
        "id": "LTOP6ZdmihNl",
        "outputId": "6b5e0e60-65d9-4baa-d27a-92bc3df590ba"
      },
      "outputs": [
        {
          "name": "stdout",
          "output_type": "stream",
          "text": [
            "Image 2\n",
            " [[ 3  8 -5  2 -2]\n",
            " [-1 -2  1 -5 -7]\n",
            " [ 9 -6  4 -3 -6]\n",
            " [-3 -1 -2  1  2]\n",
            " [ 8  8  3 -7  1]]\n",
            "Image 2 lenght\n",
            " 5\n"
          ]
        }
      ],
      "source": [
        "image2 = np.array([[3,8,-5,2,-2],[-1,-2,1,-5,-7],[9,-6,4,-3,-6],[-3,-1,-2,1,2],[8,8,3,-7,1]])\n",
        "print(\"Image 2\\n\", image2)\n",
        "print('Image 2 lenght\\n', len(image2))"
      ]
    },
    {
      "cell_type": "code",
      "execution_count": 111,
      "metadata": {
        "colab": {
          "base_uri": "https://localhost:8080/"
        },
        "id": "bqHIQihDihFv",
        "outputId": "dd7e083a-ac75-486a-9e2a-9aa7086d22d2"
      },
      "outputs": [
        {
          "name": "stdout",
          "output_type": "stream",
          "text": [
            "Kernel 2\n",
            " [[ 1  2  1]\n",
            " [ 1  2 -1]\n",
            " [-1  1 -1]]\n",
            "Kernel 2 lenght\n",
            " 3\n"
          ]
        }
      ],
      "source": [
        "kernel2 = np.array([[1,2,1],[1,2,-1],[-1,1,-1]])\n",
        "print(\"Kernel 2\\n\", kernel2)\n",
        "print('Kernel 2 lenght\\n', len(kernel2))"
      ]
    },
    {
      "cell_type": "code",
      "execution_count": 112,
      "metadata": {
        "colab": {
          "base_uri": "https://localhost:8080/"
        },
        "id": "AAZFnh10ig3z",
        "outputId": "b536b084-f08d-434c-a748-f5eb6c370e9b"
      },
      "outputs": [
        {
          "name": "stdout",
          "output_type": "stream",
          "text": [
            "Row 1, Column 1\n",
            "Kernel\n",
            "[[ 1  2  1]\n",
            " [ 1  2 -1]\n",
            " [-1  1 -1]]\n",
            "Part of the image affected by the kernel\n",
            "[[ 3  8 -5]\n",
            " [-1 -2  1]\n",
            " [ 9 -6  4]]\n",
            "Multiplication\n",
            "[[ 3 16 -5]\n",
            " [-1 -4 -1]\n",
            " [-9 -6 -4]]\n",
            "----------------------------------------\n",
            "Row 1, Column 2\n",
            "Kernel\n",
            "[[ 1  2  1]\n",
            " [ 1  2 -1]\n",
            " [-1  1 -1]]\n",
            "Part of the image affected by the kernel\n",
            "[[ 8 -5  2]\n",
            " [-2  1 -5]\n",
            " [-6  4 -3]]\n",
            "Multiplication\n",
            "[[  8 -10   2]\n",
            " [ -2   2   5]\n",
            " [  6   4   3]]\n",
            "----------------------------------------\n",
            "Row 1, Column 3\n",
            "Kernel\n",
            "[[ 1  2  1]\n",
            " [ 1  2 -1]\n",
            " [-1  1 -1]]\n",
            "Part of the image affected by the kernel\n",
            "[[-5  2 -2]\n",
            " [ 1 -5 -7]\n",
            " [ 4 -3 -6]]\n",
            "Multiplication\n",
            "[[ -5   4  -2]\n",
            " [  1 -10   7]\n",
            " [ -4  -3   6]]\n",
            "----------------------------------------\n",
            "Row 2, Column 1\n",
            "Kernel\n",
            "[[ 1  2  1]\n",
            " [ 1  2 -1]\n",
            " [-1  1 -1]]\n",
            "Part of the image affected by the kernel\n",
            "[[-1 -2  1]\n",
            " [ 9 -6  4]\n",
            " [-3 -1 -2]]\n",
            "Multiplication\n",
            "[[ -1  -4   1]\n",
            " [  9 -12  -4]\n",
            " [  3  -1   2]]\n",
            "----------------------------------------\n",
            "Row 2, Column 2\n",
            "Kernel\n",
            "[[ 1  2  1]\n",
            " [ 1  2 -1]\n",
            " [-1  1 -1]]\n",
            "Part of the image affected by the kernel\n",
            "[[-2  1 -5]\n",
            " [-6  4 -3]\n",
            " [-1 -2  1]]\n",
            "Multiplication\n",
            "[[-2  2 -5]\n",
            " [-6  8  3]\n",
            " [ 1 -2 -1]]\n",
            "----------------------------------------\n",
            "Row 2, Column 3\n",
            "Kernel\n",
            "[[ 1  2  1]\n",
            " [ 1  2 -1]\n",
            " [-1  1 -1]]\n",
            "Part of the image affected by the kernel\n",
            "[[ 1 -5 -7]\n",
            " [ 4 -3 -6]\n",
            " [-2  1  2]]\n",
            "Multiplication\n",
            "[[  1 -10  -7]\n",
            " [  4  -6   6]\n",
            " [  2   1  -2]]\n",
            "----------------------------------------\n",
            "Row 3, Column 1\n",
            "Kernel\n",
            "[[ 1  2  1]\n",
            " [ 1  2 -1]\n",
            " [-1  1 -1]]\n",
            "Part of the image affected by the kernel\n",
            "[[ 9 -6  4]\n",
            " [-3 -1 -2]\n",
            " [ 8  8  3]]\n",
            "Multiplication\n",
            "[[  9 -12   4]\n",
            " [ -3  -2   2]\n",
            " [ -8   8  -3]]\n",
            "----------------------------------------\n",
            "Row 3, Column 2\n",
            "Kernel\n",
            "[[ 1  2  1]\n",
            " [ 1  2 -1]\n",
            " [-1  1 -1]]\n",
            "Part of the image affected by the kernel\n",
            "[[-6  4 -3]\n",
            " [-1 -2  1]\n",
            " [ 8  3 -7]]\n",
            "Multiplication\n",
            "[[-6  8 -3]\n",
            " [-1 -4 -1]\n",
            " [-8  3  7]]\n",
            "----------------------------------------\n",
            "Row 3, Column 3\n",
            "Kernel\n",
            "[[ 1  2  1]\n",
            " [ 1  2 -1]\n",
            " [-1  1 -1]]\n",
            "Part of the image affected by the kernel\n",
            "[[ 4 -3 -6]\n",
            " [-2  1  2]\n",
            " [ 3 -7  1]]\n",
            "Multiplication\n",
            "[[ 4 -6 -6]\n",
            " [-2  2 -2]\n",
            " [-3 -7 -1]]\n",
            "----------------------------------------\n",
            "List of multiplications\n",
            "[[[[  3  16  -5]\n",
            "   [ -1  -4  -1]\n",
            "   [ -9  -6  -4]]\n",
            "\n",
            "  [[  8 -10   2]\n",
            "   [ -2   2   5]\n",
            "   [  6   4   3]]\n",
            "\n",
            "  [[ -5   4  -2]\n",
            "   [  1 -10   7]\n",
            "   [ -4  -3   6]]]\n",
            "\n",
            "\n",
            " [[[ -1  -4   1]\n",
            "   [  9 -12  -4]\n",
            "   [  3  -1   2]]\n",
            "\n",
            "  [[ -2   2  -5]\n",
            "   [ -6   8   3]\n",
            "   [  1  -2  -1]]\n",
            "\n",
            "  [[  1 -10  -7]\n",
            "   [  4  -6   6]\n",
            "   [  2   1  -2]]]\n",
            "\n",
            "\n",
            " [[[  9 -12   4]\n",
            "   [ -3  -2   2]\n",
            "   [ -8   8  -3]]\n",
            "\n",
            "  [[ -6   8  -3]\n",
            "   [ -1  -4  -1]\n",
            "   [ -8   3   7]]\n",
            "\n",
            "  [[  4  -6  -6]\n",
            "   [ -2   2  -2]\n",
            "   [ -3  -7  -1]]]]\n",
            "\n",
            "Final Result (Feature Map)\n",
            "[[-11  18  -6]\n",
            " [ -7  -2 -11]\n",
            " [ -5  -5 -21]]\n"
          ]
        }
      ],
      "source": [
        "convolution(image2, kernel2)"
      ]
    },
    {
      "cell_type": "code",
      "execution_count": 113,
      "metadata": {
        "colab": {
          "base_uri": "https://localhost:8080/"
        },
        "id": "7LhM4mDxkjyr",
        "outputId": "ea75bf0c-a111-4960-ea90-eb4fd37553c0"
      },
      "outputs": [
        {
          "name": "stdout",
          "output_type": "stream",
          "text": [
            "Row 1, Column 1\n",
            "Kernel\n",
            "[[1 2]\n",
            " [1 2]]\n",
            "Part of the image affected by the kernel\n",
            "[[ 3  8]\n",
            " [-1 -2]]\n",
            "Multiplication\n",
            "[[ 3 16]\n",
            " [-1 -4]]\n",
            "----------------------------------------\n",
            "Row 1, Column 2\n",
            "Kernel\n",
            "[[1 2]\n",
            " [1 2]]\n",
            "Part of the image affected by the kernel\n",
            "[[ 8 -5]\n",
            " [-2  1]]\n",
            "Multiplication\n",
            "[[  8 -10]\n",
            " [ -2   2]]\n",
            "----------------------------------------\n",
            "Row 2, Column 1\n",
            "Kernel\n",
            "[[1 2]\n",
            " [1 2]]\n",
            "Part of the image affected by the kernel\n",
            "[[-1 -2]\n",
            " [ 9 -6]]\n",
            "Multiplication\n",
            "[[ -1  -4]\n",
            " [  9 -12]]\n",
            "----------------------------------------\n",
            "Row 2, Column 2\n",
            "Kernel\n",
            "[[1 2]\n",
            " [1 2]]\n",
            "Part of the image affected by the kernel\n",
            "[[-2  1]\n",
            " [-6  4]]\n",
            "Multiplication\n",
            "[[-2  2]\n",
            " [-6  8]]\n",
            "----------------------------------------\n",
            "List of multiplications\n",
            "[[[[  3  16]\n",
            "   [ -1  -4]]\n",
            "\n",
            "  [[  8 -10]\n",
            "   [ -2   2]]]\n",
            "\n",
            "\n",
            " [[[ -1  -4]\n",
            "   [  9 -12]]\n",
            "\n",
            "  [[ -2   2]\n",
            "   [ -6   8]]]]\n",
            "\n",
            "Final Result (Feature Map)\n",
            "[[14 -2]\n",
            " [-8  2]]\n"
          ]
        }
      ],
      "source": [
        "convolution(image2, kernel1)"
      ]
    }
  ],
  "metadata": {
    "colab": {
      "provenance": []
    },
    "kernelspec": {
      "display_name": "Python 3",
      "name": "python3"
    },
    "language_info": {
      "name": "python"
    }
  },
  "nbformat": 4,
  "nbformat_minor": 0
}
